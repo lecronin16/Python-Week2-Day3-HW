{
 "cells": [
  {
   "cell_type": "markdown",
   "metadata": {},
   "source": [
    "# Object-Oriented-Programming (OOP)"
   ]
  },
  {
   "cell_type": "markdown",
   "metadata": {},
   "source": [
    "## Tasks Today:\n",
    "\n",
    "   \n",
    "\n",
    "1) <b>Creating a Class (Initializing/Declaring)</b> <br>\n",
    "2) <b>Using a Class (Instantiating)</b> <br>\n",
    " &nbsp;&nbsp;&nbsp;&nbsp; a) Creating One Instance <br>\n",
    " &nbsp;&nbsp;&nbsp;&nbsp; b) Creating Multiple Instances <br>\n",
    " &nbsp;&nbsp;&nbsp;&nbsp; c) In-Class Exercise #1 - Create a Class 'Car' and instantiate three different makes of cars <br>\n",
    "3) <b>The \\__init\\__() Method</b> <br>\n",
    " &nbsp;&nbsp;&nbsp;&nbsp; a) The 'self' Attribute <br>\n",
    "4) <b>Class Attributes</b> <br>\n",
    " &nbsp;&nbsp;&nbsp;&nbsp; a) Initializing Attributes <br>\n",
    " &nbsp;&nbsp;&nbsp;&nbsp; b) Setting an Attribute Outside of the \\__init\\__() Method <br>\n",
    " &nbsp;&nbsp;&nbsp;&nbsp; c) Setting Defaults for Attributes <br>\n",
    " &nbsp;&nbsp;&nbsp;&nbsp; d) Accessing Class Attributes <br>\n",
    " &nbsp;&nbsp;&nbsp;&nbsp; e) Changing Class Attributes <br>\n",
    " &nbsp;&nbsp;&nbsp;&nbsp; f) In-Class Exercise #2 - Add a color and wheels attribute to your 'Car' class <br>\n",
    "5) <b>Class Methods</b> <br>\n",
    " &nbsp;&nbsp;&nbsp;&nbsp; a) Creating <br>\n",
    " &nbsp;&nbsp;&nbsp;&nbsp; b) Calling <br>\n",
    " &nbsp;&nbsp;&nbsp;&nbsp; c) Modifying an Attribute's Value Through a Method <br>\n",
    " &nbsp;&nbsp;&nbsp;&nbsp; d) Incrementing an Attribute's Value Through a Method <br>\n",
    " &nbsp;&nbsp;&nbsp;&nbsp; e) In-Class Exercise #3 - Add a method that prints the cars color and wheel number, then call them <br>\n",
    "6) <b>Inheritance</b> <br>\n",
    " &nbsp;&nbsp;&nbsp;&nbsp; a) Syntax for Inheriting from a Parent Class <br>\n",
    " &nbsp;&nbsp;&nbsp;&nbsp; b) The \\__init\\__() Method for a Child Class (super()) <br>\n",
    " &nbsp;&nbsp;&nbsp;&nbsp; c) Defining Attributes and Methods for the Child Class <br>\n",
    " &nbsp;&nbsp;&nbsp;&nbsp; d) Method Overriding <br>\n",
    " &nbsp;&nbsp;&nbsp;&nbsp; e) In-Class Exercise #4 - Create a class 'Ford' that inherits from 'Car' class and initialize it as a Blue Ford Explorer with 4 wheels using the super() method <br>\n",
    "7) <b>Classes as Attributes</b> <br>\n",
    "8) <b>Exercises</b> <br>\n",
    " &nbsp;&nbsp;&nbsp;&nbsp; a) Exercise #1 - Turn the shopping cart program from yesterday into an object-oriented program <br>"
   ]
  },
  {
   "cell_type": "markdown",
   "metadata": {},
   "source": [
    "## Creating a Class (Initializing/Declaring)\n",
    "<p>When creating a class, function, or even a variable you are initializing that object. Initializing and Declaring occur at the same time in Python, whereas in lower level languages you have to declare an object before initializing it. This is the first step in the process of using a class.</p>"
   ]
  },
  {
   "cell_type": "code",
   "execution_count": 4,
   "metadata": {},
   "outputs": [],
   "source": [
    "class Car():\n",
    "    wheels = 4\n",
    "    color = 'blue'\n",
    "\n",
    "#classes have capital letters always\n",
    "#technically don't need parentheses, but use as a best practice"
   ]
  },
  {
   "cell_type": "markdown",
   "metadata": {},
   "source": [
    "## Using a Class (Instantiating)\n",
    "<p>The process of creating a class is called <i>Instantiating</i>. Each time you create a variable of that type of class, it is referred to as an <i>Instance</i> of that class. This is the second step in the process of using a class.</p>"
   ]
  },
  {
   "cell_type": "markdown",
   "metadata": {},
   "source": [
    "##### Creating One Instance"
   ]
  },
  {
   "cell_type": "code",
   "execution_count": 9,
   "metadata": {},
   "outputs": [
    {
     "name": "stdout",
     "output_type": "stream",
     "text": [
      "<class '__main__.Car'>\n"
     ]
    },
    {
     "data": {
      "text/plain": [
       "'blue'"
      ]
     },
     "execution_count": 9,
     "metadata": {},
     "output_type": "execute_result"
    }
   ],
   "source": [
    "ford = Car()\n",
    "\n",
    "print(type(ford))\n",
    "\n",
    "car2 = Car()\n",
    "car3 = Car()\n",
    "car4 = Car()\n",
    "\n",
    "car3.color = 'red'\n",
    "car3.color\n",
    "car2.color\n"
   ]
  },
  {
   "cell_type": "markdown",
   "metadata": {},
   "source": [
    "##### Creating Multiple Instances"
   ]
  },
  {
   "cell_type": "code",
   "execution_count": null,
   "metadata": {},
   "outputs": [],
   "source": []
  },
  {
   "cell_type": "markdown",
   "metadata": {},
   "source": [
    "##### In-Class Exercise #1 - Create a Class 'Car' and Instantiate three different makes of cars"
   ]
  },
  {
   "cell_type": "code",
   "execution_count": 14,
   "metadata": {},
   "outputs": [
    {
     "name": "stdout",
     "output_type": "stream",
     "text": [
      "pilot\n",
      "mazda\n",
      "rsx\n",
      "civic\n"
     ]
    }
   ],
   "source": [
    "class Car():\n",
    "    make = 'civic'\n",
    "    \n",
    "c1 = Car()\n",
    "c2 = Car()\n",
    "c3 = Car()\n",
    "c4 = Car()\n",
    "\n",
    "c1.make = \"pilot\"\n",
    "c2.make = 'mazda'\n",
    "c3.make = 'rsx'\n",
    "\n",
    "print(c1.make)\n",
    "print(c2.make)\n",
    "print(c3.make)\n",
    "print(c4.make)"
   ]
  },
  {
   "cell_type": "markdown",
   "metadata": {},
   "source": [
    "## The \\__init\\__() Method <br>\n",
    "<p>This method is used in almost every created class, and called only once upon the creation of the class instance. This method will initialize all variables needed for the object.</p>"
   ]
  },
  {
   "cell_type": "code",
   "execution_count": 39,
   "metadata": {},
   "outputs": [
    {
     "name": "stdout",
     "output_type": "stream",
     "text": [
      "black\n",
      "tesla\n",
      "This is a yellow 2022 tesla cybertruck\n"
     ]
    }
   ],
   "source": [
    "#dunder method double-under __init__()\n",
    "class Car():\n",
    "    #see below for best way to do defaults\n",
    "    wheels = 4\n",
    "    \n",
    "    def __init__(self, c, make, model, year): #aka the constructor\n",
    "        self.color = c #name of attribute is COLOR not c (variable)\n",
    "        self.make = make\n",
    "        self.model = model\n",
    "        self.year = year\n",
    "        \n",
    "    def printInfo(self):\n",
    "        print(f\"This is a {self.color} {self.year} {self.make} {self.model}\")\n",
    "        \n",
    "car1 = Car('black', 'honda', 'civic', 2016)\n",
    "print(car1.color)\n",
    "car2 = Car('yellow','tesla','cybertruck',2022)\n",
    "print(car2.make)\n",
    "\n",
    "Car.printInfo(car2)"
   ]
  },
  {
   "cell_type": "markdown",
   "metadata": {},
   "source": [
    "##### The 'self' Attribute <br>\n",
    "<p>This attribute is required to keep track of specific instance's attributes. Without the self attribute, the program would not know how to reference or keep track of an instance's attributes.</p>"
   ]
  },
  {
   "cell_type": "code",
   "execution_count": null,
   "metadata": {},
   "outputs": [],
   "source": [
    "# see above"
   ]
  },
  {
   "cell_type": "markdown",
   "metadata": {},
   "source": [
    "## Class Attributes <br>\n",
    "<p>While variables are inside of a class, they are referred to as attributes and not variables. When someone says 'attribute' you know they're speaking about a class. Attributes can be initialized through the init method, or outside of it.</p>"
   ]
  },
  {
   "cell_type": "markdown",
   "metadata": {},
   "source": [
    "##### Initializing Attributes"
   ]
  },
  {
   "cell_type": "code",
   "execution_count": null,
   "metadata": {},
   "outputs": [],
   "source": [
    "# see above"
   ]
  },
  {
   "cell_type": "markdown",
   "metadata": {},
   "source": [
    "##### Accessing Class Attributes"
   ]
  },
  {
   "cell_type": "code",
   "execution_count": null,
   "metadata": {
    "scrolled": true
   },
   "outputs": [],
   "source": [
    "# See Above"
   ]
  },
  {
   "cell_type": "markdown",
   "metadata": {},
   "source": [
    "##### Setting Defaults for Attributes"
   ]
  },
  {
   "cell_type": "code",
   "execution_count": 42,
   "metadata": {},
   "outputs": [
    {
     "name": "stdout",
     "output_type": "stream",
     "text": [
      "This is a green 2001 suzuki grand\n",
      "This is a black 1999 honda civic\n"
     ]
    },
    {
     "data": {
      "text/plain": [
       "{'color': 'green',\n",
       " 'make': 'suzuki',\n",
       " 'model': 'grand',\n",
       " 'year': 2001,\n",
       " 'isFast': True}"
      ]
     },
     "execution_count": 42,
     "metadata": {},
     "output_type": "execute_result"
    }
   ],
   "source": [
    "class Car():\n",
    "    wheels = 4\n",
    "    #this does not show in the __dict__ method\n",
    "    \n",
    "    def __init__(self, c, make, model, year=1999): \n",
    "        self.color = c \n",
    "        self.make = make\n",
    "        self.model = model\n",
    "        self.year = year\n",
    "        self.isFast = True\n",
    "        #this shows in the __dict__ method\n",
    "        \n",
    "    def printInfo(self):\n",
    "        print(f\"This is a {self.color} {self.year} {self.make} {self.model}\")\n",
    "        \n",
    "car5 = Car('green','suzuki', 'grand',2001)\n",
    "car6=Car('black', 'honda','civic')\n",
    "\n",
    "car5.printInfo()\n",
    "car6.printInfo()\n",
    "\n",
    "car5.__dict__"
   ]
  },
  {
   "cell_type": "markdown",
   "metadata": {},
   "source": [
    "##### Changing Class Attributes <br>\n",
    "<p>Keep in mind there are global class attributes and then there are attributes only available to each class instance which won't effect other classes.</p>"
   ]
  },
  {
   "cell_type": "code",
   "execution_count": 45,
   "metadata": {},
   "outputs": [
    {
     "name": "stdout",
     "output_type": "stream",
     "text": [
      "{'color': 'brown', 'make': 'toyota', 'model': 'carola', 'year': 1999, 'isFast': True}\n",
      "{'color': 'brown', 'make': 'toyota', 'model': 'carola', 'year': 2005, 'isFast': True}\n"
     ]
    }
   ],
   "source": [
    "c7= Car('brown','toyota','carola')\n",
    "print(c7.__dict__)\n",
    "c7.year = 2005\n",
    "print(c7.__dict__)\n"
   ]
  },
  {
   "cell_type": "code",
   "execution_count": null,
   "metadata": {},
   "outputs": [],
   "source": []
  },
  {
   "cell_type": "markdown",
   "metadata": {},
   "source": [
    "##### In-Class Exercise #2 - Add a doors and seats attribute to your 'Car' class then print out two different instances with different doors and seats"
   ]
  },
  {
   "cell_type": "code",
   "execution_count": 50,
   "metadata": {},
   "outputs": [
    {
     "name": "stdout",
     "output_type": "stream",
     "text": [
      "{'color': 'black', 'make': 'civic', 'model': 'honda', 'year': 1999, 'isFast': True, 'door': 4, 'seat': '4'}\n"
     ]
    }
   ],
   "source": [
    "class Car():\n",
    "    wheels = 4\n",
    "    #this does not show in the __dict__ method\n",
    "    \n",
    "    def __init__(self, c, make, model, door, seat, year=1999): \n",
    "        self.color = c \n",
    "        self.make = make\n",
    "        self.model = model\n",
    "        self.year = year\n",
    "        self.isFast = True\n",
    "        self.door = door\n",
    "        self.seat = seat\n",
    "        #this shows in the __dict__ method\n",
    "\n",
    "car9 = Car('black','civic', 'honda', '2', '4')\n",
    "car9.door = 4\n",
    "print(car9.__dict__)"
   ]
  },
  {
   "cell_type": "markdown",
   "metadata": {},
   "source": [
    "## Class Methods <br>\n",
    "<p>While inside of a class, functions are referred to as 'methods'. If you hear someone mention methods, they're speaking about classes. Methods are essentially functions, but only callable on the instances of a class.</p>"
   ]
  },
  {
   "cell_type": "markdown",
   "metadata": {},
   "source": [
    "##### Creating"
   ]
  },
  {
   "cell_type": "code",
   "execution_count": 70,
   "metadata": {},
   "outputs": [
    {
     "name": "stdout",
     "output_type": "stream",
     "text": [
      "Lauren Cronin\n",
      "Keegan Cronen\n",
      "Shoha Tsuchida\n",
      "shoha.tsuchida@company.com\n",
      "78750\n",
      "82687\n",
      "Keegan Cronen\n",
      "Keegan Cronin\n"
     ]
    }
   ],
   "source": [
    "class Employee():\n",
    "    def __init__(self,f_name,l_name,salary=80000):\n",
    "        self.first_name = f_name.title()\n",
    "        self.last_name = l_name.title()\n",
    "        self.email = (f_name + \".\" + l_name + \"@company.com\").lower() #string concatenation\n",
    "        self.raise_amount = 1.05 #default\n",
    "        self.salary = salary\n",
    "  \n",
    "    #getter (helper function)\n",
    "    def getFullName(self):\n",
    "        return (f'{self.first_name} {self.last_name}').title()\n",
    "    \n",
    "    #setter (helper function)\n",
    "    def applyRaise(self):\n",
    "        self.salary = int(self.salary * self.raise_amount)\n",
    "        \n",
    "    def changeLastName(self, l_name):\n",
    "        self.last_name = l_name\n",
    "        self.email = (f'{self.first_name}.{l_name}@company.com').lower()\n",
    "        #(self.first_name + \".\" + l_name + \"@company.com\").lower()\n",
    "        \n",
    "\n",
    "e1 = Employee ('lauren','cronin',75000)\n",
    "e2 = Employee ('keegan', 'cronen')\n",
    "e3 = Employee ('shoha', 'tsuchida', 90000)\n",
    "\n",
    "print(e1.getFullName())\n",
    "print(e2.getFullName())\n",
    "print(e3.getFullName())\n",
    "print(e3.email)\n",
    "\n",
    "e1.applyRaise()\n",
    "print(e1.salary)\n",
    "e1.applyRaise()\n",
    "print(e1.salary)\n",
    "\n",
    "print(e2.getFullName())\n",
    "e2.changeLastName('Cronin')\n",
    "print(e2.getFullName())"
   ]
  },
  {
   "cell_type": "markdown",
   "metadata": {},
   "source": [
    "##### Calling"
   ]
  },
  {
   "cell_type": "code",
   "execution_count": null,
   "metadata": {},
   "outputs": [],
   "source": [
    "# See Above"
   ]
  },
  {
   "cell_type": "markdown",
   "metadata": {},
   "source": [
    "##### Modifying an Attribute's Value Through a Method"
   ]
  },
  {
   "cell_type": "code",
   "execution_count": null,
   "metadata": {},
   "outputs": [],
   "source": [
    "#setter see above"
   ]
  },
  {
   "cell_type": "markdown",
   "metadata": {},
   "source": [
    "##### Incrementing an Attribute's Value Through a Method"
   ]
  },
  {
   "cell_type": "code",
   "execution_count": null,
   "metadata": {},
   "outputs": [],
   "source": [
    "#setter see above"
   ]
  },
  {
   "cell_type": "markdown",
   "metadata": {},
   "source": [
    "##### In-Class Exercise #3 - Add a method that takes in three parameters of year, doors and seats and prints out a formatted print statement with make, model, year, seats, and doors"
   ]
  },
  {
   "cell_type": "code",
   "execution_count": null,
   "metadata": {},
   "outputs": [],
   "source": [
    "# Create class with 2 paramters inside of the __init__ which are make and model\n",
    "\n",
    "# Inside of the Car class create a method that has 4 parameter in total (self,year,door,seats)\n",
    "\n",
    "# Output: This car is from 2019 and is a Ford Expolorer and has 4 doors and 5 seats\n",
    "\n",
    "\n"
   ]
  },
  {
   "cell_type": "markdown",
   "metadata": {},
   "source": [
    "## Inheritance <br>\n",
    "<p>You can create a child-parent relationship between two classes by using inheritance. What this allows you to do is have overriding methods, but also inherit traits from the parent class. Think of it as an actual parent and child, the child will inherit the parent's genes, as will the classes in OOP</p>"
   ]
  },
  {
   "cell_type": "markdown",
   "metadata": {},
   "source": [
    "##### Syntax for Inheriting from a Parent Class"
   ]
  },
  {
   "cell_type": "code",
   "execution_count": null,
   "metadata": {},
   "outputs": [],
   "source": []
  },
  {
   "cell_type": "markdown",
   "metadata": {},
   "source": [
    "##### The \\__init\\__() Method for a Child Class - super()"
   ]
  },
  {
   "cell_type": "code",
   "execution_count": null,
   "metadata": {
    "scrolled": true
   },
   "outputs": [],
   "source": []
  },
  {
   "cell_type": "markdown",
   "metadata": {},
   "source": [
    "##### Defining Attributes and Methods for the Child Class"
   ]
  },
  {
   "cell_type": "code",
   "execution_count": null,
   "metadata": {},
   "outputs": [],
   "source": [
    "# See Above"
   ]
  },
  {
   "cell_type": "markdown",
   "metadata": {},
   "source": [
    "##### Method Overriding"
   ]
  },
  {
   "cell_type": "code",
   "execution_count": null,
   "metadata": {},
   "outputs": [],
   "source": [
    "# See Above"
   ]
  },
  {
   "cell_type": "markdown",
   "metadata": {},
   "source": [
    "## Classes as Attributes <br>\n",
    "<p>Classes can also be used as attributes within another class. This is useful in situations where you need to keep variables locally stored, instead of globally stored.</p>"
   ]
  },
  {
   "cell_type": "code",
   "execution_count": 89,
   "metadata": {},
   "outputs": [
    {
     "name": "stdout",
     "output_type": "stream",
     "text": [
      "{'name': 'luna', 'species': 'canina', 'legs': 4, 'isFast': True, 'isDog': True}\n",
      "woof\n",
      "meow\n",
      "{'name': 'mittens', 'species': 'feline', 'legs': 4, 'isFast': False}\n"
     ]
    }
   ],
   "source": [
    "#parent class\n",
    "class Animal():\n",
    "    def __init__(self, name, species, legs=4):\n",
    "        self.name = name\n",
    "        self.species = species\n",
    "        self.legs = legs\n",
    "    def talk(self):\n",
    "        print(\"...\")\n",
    "    def breathes(self):\n",
    "        print(\"...\")\n",
    "\n",
    "#child classes   \n",
    "class Dog(Animal):\n",
    "    #constructor method will override the inherited classes init method\n",
    "    def __init__(self,name,species,legs=4,isFast=True):\n",
    "        Animal.__init__(self,name,species,legs)  \n",
    "        self.isFast=isFast\n",
    "        self.isDog = True\n",
    "    def talk(self):\n",
    "        print(\"woof\")\n",
    "    \n",
    "class Cat(Animal):\n",
    "    def __init__(self,name,species,legs=4,isFast=False):\n",
    "        #for super method you don't need to pass in self\n",
    "        super().__init__(name,species,legs)\n",
    "        self.isFast = isFast   \n",
    "    def talk(self):\n",
    "        print(\"meow\")\n",
    "    \n",
    "    \n",
    "a1 = Animal ('lauren', 'human', 2)\n",
    "d1 = Dog ('luna', 'canina')\n",
    "c1 = Cat ('mittens', 'feline')\n",
    "\n",
    "print(d1.__dict__)\n",
    "d1.talk()\n",
    "c1.talk()\n",
    "print(c1.__dict__)"
   ]
  },
  {
   "cell_type": "markdown",
   "metadata": {},
   "source": [
    "# Exercises"
   ]
  },
  {
   "cell_type": "markdown",
   "metadata": {},
   "source": [
    "### Exercise 1 - Turn the shopping cart program from yesterday into an object-oriented program\n",
    "\n",
    "The comments in the cell below are there as a guide for thinking about the problem. However, if you feel a different way is best for you and your own thought process, please do what feels best for you by all means."
   ]
  },
  {
   "cell_type": "code",
   "execution_count": 103,
   "metadata": {},
   "outputs": [
    {
     "name": "stdout",
     "output_type": "stream",
     "text": [
      "What item do you want to add to your cart? banana\n",
      "Successfully added banana to your cart\n",
      "['banana']\n",
      "What item do you want to add to your cart? eggs\n",
      "Successfully added eggs to your cart\n",
      "What item do you want to remove from your cart? banana\n",
      "Successfully removed banana from your cart\n",
      "['eggs']\n",
      "What item do you want to add to your cart? bread\n",
      "Successfully added bread to your cart\n",
      "['bread']\n",
      "What item do you want to add to your cart? cheese\n",
      "Successfully added cheese to your cart\n",
      "What item do you want to remove from your cart? cheese\n",
      "Successfully removed cheese from your cart\n",
      "['bread']\n"
     ]
    }
   ],
   "source": [
    "# Create a class called cart that retains items and has methods to add, remove, and show\n",
    "\n",
    "class Cart():\n",
    "    def __init__(self):\n",
    "        self.cart = []\n",
    "    \n",
    "    def addToCart(self):\n",
    "        item = input(\"What item do you want to add to your cart? \").lower()\n",
    "        self.cart.append(item)\n",
    "        print(f\"Successfully added {item} to your cart\")\n",
    "\n",
    "    def removeFromCart(self):\n",
    "        item = input(\"What item do you want to remove from your cart? \").lower()\n",
    "        if item in self.cart:\n",
    "            self.cart.remove(item)\n",
    "            print(f\"Successfully removed {item} from your cart\")\n",
    "        else:\n",
    "            print(f\"You do not have {item} in your cart.\")\n",
    "\n",
    "    def showCart(self):\n",
    "        print(self.cart)\n",
    "\n",
    "lauren = Cart()\n",
    "\n",
    "lauren.addToCart()\n",
    "lauren.showCart()\n",
    "lauren.addToCart()\n",
    "lauren.removeFromCart()\n",
    "lauren.showCart()\n",
    "\n",
    "keegan = Cart()\n",
    "\n",
    "keegan.addToCart()\n",
    "keegan.showCart()\n",
    "keegan.addToCart()\n",
    "keegan.removeFromCart()\n",
    "keegan.showCart()"
   ]
  },
  {
   "cell_type": "markdown",
   "metadata": {},
   "source": [
    "### Exercise 2 - Write a Python class which has two methods get_String and print_String. get_String accept a string from the user and print_String print the string in upper case"
   ]
  },
  {
   "cell_type": "code",
   "execution_count": 120,
   "metadata": {
    "scrolled": true
   },
   "outputs": [
    {
     "name": "stdout",
     "output_type": "stream",
     "text": [
      "Input something: hi\n",
      "HI\n",
      "Input something: silly\n",
      "SILLY\n"
     ]
    }
   ],
   "source": [
    "class NewStrings():\n",
    "    def __init__(self):\n",
    "        self.string = \"\"\n",
    "    \n",
    "    def get_String(self):\n",
    "        self.string = input(\"Input something: \")\n",
    "    \n",
    "    def print_String(self):\n",
    "        print(self.string.upper())\n",
    "        \n",
    "hi = NewStrings()\n",
    "hi.get_String()\n",
    "hi.print_String()\n",
    "\n",
    "silly = NewStrings()\n",
    "silly.get_String()\n",
    "silly.print_String()"
   ]
  },
  {
   "cell_type": "code",
   "execution_count": null,
   "metadata": {},
   "outputs": [],
   "source": []
  }
 ],
 "metadata": {
  "kernelspec": {
   "display_name": "Python 3 (ipykernel)",
   "language": "python",
   "name": "python3"
  },
  "language_info": {
   "codemirror_mode": {
    "name": "ipython",
    "version": 3
   },
   "file_extension": ".py",
   "mimetype": "text/x-python",
   "name": "python",
   "nbconvert_exporter": "python",
   "pygments_lexer": "ipython3",
   "version": "3.9.12"
  }
 },
 "nbformat": 4,
 "nbformat_minor": 2
}
